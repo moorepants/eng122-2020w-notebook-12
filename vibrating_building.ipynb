{
 "cells": [
  {
   "cell_type": "markdown",
   "metadata": {},
   "source": [
    "# Modes of a Vibrating Building\n",
    "\n",
    "In this notebook we will find the vibrational modes of a simple model of a building. We will assume that the mass of the floors are much more than the mass of the walls and that the lateral stiffness of the walls can be modeled by a simple linear spring. We will investigate how the building may vibrate under initial conditions that could be caused by a gust of wind and during ground vibration."
   ]
  },
  {
   "cell_type": "code",
   "execution_count": null,
   "metadata": {},
   "outputs": [],
   "source": [
    "from IPython.display import YouTubeVideo"
   ]
  },
  {
   "cell_type": "code",
   "execution_count": null,
   "metadata": {},
   "outputs": [],
   "source": [
    "YouTubeVideo('pMr1MzSv044', width=600)"
   ]
  },
  {
   "cell_type": "code",
   "execution_count": null,
   "metadata": {},
   "outputs": [],
   "source": [
    "YouTubeVideo('hSwjkG3nv1c', width=600)"
   ]
  },
  {
   "cell_type": "code",
   "execution_count": null,
   "metadata": {},
   "outputs": [],
   "source": [
    "YouTubeVideo('kzVvd4Dk6sw', width=600)"
   ]
  },
  {
   "cell_type": "code",
   "execution_count": null,
   "metadata": {},
   "outputs": [],
   "source": [
    "import numpy as np\n",
    "import matplotlib.pyplot as plt\n",
    "from resonance.linear_systems import FourStoryBuildingSystem"
   ]
  },
  {
   "cell_type": "markdown",
   "metadata": {},
   "source": [
    "This gives a bit nicer printing of large NumPy arrays."
   ]
  },
  {
   "cell_type": "code",
   "execution_count": null,
   "metadata": {},
   "outputs": [],
   "source": [
    "np.set_printoptions(precision=5, linewidth=100, suppress=True)"
   ]
  },
  {
   "cell_type": "code",
   "execution_count": null,
   "metadata": {},
   "outputs": [],
   "source": [
    "%matplotlib widget"
   ]
  },
  {
   "cell_type": "markdown",
   "metadata": {},
   "source": [
    "# Simulate the free response of the four story building"
   ]
  },
  {
   "cell_type": "code",
   "execution_count": null,
   "metadata": {},
   "outputs": [],
   "source": [
    "sys = FourStoryBuildingSystem()"
   ]
  },
  {
   "cell_type": "code",
   "execution_count": null,
   "metadata": {},
   "outputs": [],
   "source": [
    "sys.constants"
   ]
  },
  {
   "cell_type": "code",
   "execution_count": null,
   "metadata": {},
   "outputs": [],
   "source": [
    "sys.coordinates"
   ]
  },
  {
   "cell_type": "code",
   "execution_count": null,
   "metadata": {},
   "outputs": [],
   "source": [
    "sys.plot_configuration();"
   ]
  },
  {
   "cell_type": "code",
   "execution_count": null,
   "metadata": {},
   "outputs": [],
   "source": [
    "traj = sys.free_response(30, sample_rate=10)"
   ]
  },
  {
   "cell_type": "code",
   "execution_count": null,
   "metadata": {},
   "outputs": [],
   "source": [
    "traj[sys.coordinates.keys()].plot(subplots=True, sharey=True);"
   ]
  },
  {
   "cell_type": "code",
   "execution_count": null,
   "metadata": {},
   "outputs": [],
   "source": [
    "sys.animate_configuration(fps=10, repeat=False)"
   ]
  },
  {
   "cell_type": "markdown",
   "metadata": {},
   "source": [
    "# Extract the mass, damping, and stiffness matrices"
   ]
  },
  {
   "cell_type": "code",
   "execution_count": null,
   "metadata": {},
   "outputs": [],
   "source": [
    "M, C, K = sys.canonical_coefficients()"
   ]
  },
  {
   "cell_type": "code",
   "execution_count": null,
   "metadata": {},
   "outputs": [],
   "source": [
    "M"
   ]
  },
  {
   "cell_type": "code",
   "execution_count": null,
   "metadata": {},
   "outputs": [],
   "source": [
    "C"
   ]
  },
  {
   "cell_type": "code",
   "execution_count": null,
   "metadata": {},
   "outputs": [],
   "source": [
    "K"
   ]
  },
  {
   "cell_type": "markdown",
   "metadata": {},
   "source": [
    "# Exercise\n",
    "\n",
    "$$\n",
    "\\mathbf{M}\\dot{\\bar{s}} + \\mathbf{K}\\bar{c} = \\bar{0}\n",
    "$$\n",
    "\n",
    "Since the mass and stiffness matrices are symmetric and there is no damping, the system can be normalized by the mass matrix and transformed into a symmetric eigenvalue problem by introducing the new coordinate vector:\n",
    "\n",
    "$$\\bar{q}=\\mathbf{L}^T\\bar{c}$$\n",
    "\n",
    "$\\mathbf{L}$ is the Cholesky decomposition of the symmetric mass matrix, i.e. $\\mathbf{M}=\\mathbf{L}\\mathbf{L}^T$.\n",
    "\n",
    "The equation of motion becomes:\n",
    "\n",
    "$$\\ddot{\\bar{q}} + \\tilde{\\mathbf{K}} \\bar{q} = 0$$\n",
    "\n",
    "Compute $\\tilde{\\mathbf{K}}$."
   ]
  },
  {
   "cell_type": "code",
   "execution_count": null,
   "metadata": {},
   "outputs": [],
   "source": [
    "import numpy.linalg as la"
   ]
  },
  {
   "cell_type": "code",
   "execution_count": null,
   "metadata": {
    "jupyter": {
     "source_hidden": true
    }
   },
   "outputs": [],
   "source": [
    "L = np.linalg.cholesky(M)\n",
    "K_tilde = la.inv(L) @ K @ la.inv(L.T)\n",
    "K_tilde"
   ]
  },
  {
   "cell_type": "code",
   "execution_count": null,
   "metadata": {},
   "outputs": [],
   "source": [
    "# write your answer here"
   ]
  },
  {
   "cell_type": "markdown",
   "metadata": {},
   "source": [
    "Notice that $\\tilde{\\mathbf{K}}$ is symmetric, so we are guaranteed to get real eigenvalues and orthogonal eigenvectors when solving this system.\n",
    "\n",
    "# Exercise\n",
    "\n",
    "Find the eigenvalues and eigenvectors. Create the spectral matrix $\\mathbf{\\Lambda}$ and the matrix $\\mathbf{P}$ which contains the orthonormal eigenvectors of $\\tilde{\\mathbf{K}}$. Store in variables `Lambda` and `P` respectively.\n",
    "\n",
    "$$\n",
    "\\mathbf{P} = \\left[ \\hat{q}_{01}, \\ldots, \\hat{q}_{04} \\right]\n",
    "$$"
   ]
  },
  {
   "cell_type": "code",
   "execution_count": null,
   "metadata": {
    "jupyter": {
     "source_hidden": true
    }
   },
   "outputs": [],
   "source": [
    "evals, evecs = np.linalg.eig(K_tilde)\n",
    "Lambda = np.diag(evals)\n",
    "print(Lambda)\n",
    "P = evecs\n",
    "print(P)"
   ]
  },
  {
   "cell_type": "code",
   "execution_count": null,
   "metadata": {},
   "outputs": [],
   "source": [
    "# write your answer here"
   ]
  },
  {
   "cell_type": "markdown",
   "metadata": {},
   "source": [
    "# Exercise\n",
    "\n",
    "Prove that the eigenvectors in $\\mathbf{P}$ are orthonormal."
   ]
  },
  {
   "cell_type": "code",
   "execution_count": null,
   "metadata": {
    "jupyter": {
     "source_hidden": true
    }
   },
   "outputs": [],
   "source": [
    "np.dot(P[:, 0], P[:, 1])\n",
    "\n",
    "np.linalg.norm(P[:, 0])\n",
    "\n",
    "P[:, 0].T @ P[:, 1]\n",
    "\n",
    "P[:, 0].T @ P[:, 0]"
   ]
  },
  {
   "cell_type": "code",
   "execution_count": null,
   "metadata": {},
   "outputs": [],
   "source": [
    "# write your answer here"
   ]
  },
  {
   "cell_type": "markdown",
   "metadata": {},
   "source": [
    "An orthonormal matrix has the property that its transpose multiplied by itself is the identity matrix.\n",
    "\n",
    "$$\n",
    "\\mathbf{P}^T\\mathbf{P} = \\mathbf{I}\n",
    "$$"
   ]
  },
  {
   "cell_type": "code",
   "execution_count": null,
   "metadata": {},
   "outputs": [],
   "source": [
    "P.T @ P"
   ]
  },
  {
   "cell_type": "markdown",
   "metadata": {},
   "source": [
    "# Exercise\n",
    "\n",
    "Find the natural freqencies of the system in both radians per second and Hertz, store them in an array in the order of the eigenvalues with names `ws` and `fs`."
   ]
  },
  {
   "cell_type": "code",
   "execution_count": null,
   "metadata": {
    "jupyter": {
     "source_hidden": true
    }
   },
   "outputs": [],
   "source": [
    "ws = np.sqrt(evals)\n",
    "ws"
   ]
  },
  {
   "cell_type": "code",
   "execution_count": null,
   "metadata": {
    "jupyter": {
     "source_hidden": true
    }
   },
   "outputs": [],
   "source": [
    "fs = ws / 2 / np.pi\n",
    "fs"
   ]
  },
  {
   "cell_type": "code",
   "execution_count": null,
   "metadata": {},
   "outputs": [],
   "source": [
    "# write your answer here"
   ]
  },
  {
   "cell_type": "markdown",
   "metadata": {},
   "source": [
    "# Exercise\n",
    "\n",
    "Transform the eigenvectors back into the coordinate system associated with the coordinates $\\bar{c}$. Store the results in variable `S` representing the matrix below.\n",
    "\n",
    "$$\n",
    "\\mathbf{S} = \\left[ \\bar{u}_1, \\ldots, \\bar{u}_4 \\right]\n",
    "$$"
   ]
  },
  {
   "cell_type": "code",
   "execution_count": null,
   "metadata": {
    "jupyter": {
     "source_hidden": true
    }
   },
   "outputs": [],
   "source": [
    "S = np.linalg.inv(L.T) @ P\n",
    "S"
   ]
  },
  {
   "cell_type": "code",
   "execution_count": null,
   "metadata": {},
   "outputs": [],
   "source": [
    "# write your answer here"
   ]
  },
  {
   "cell_type": "markdown",
   "metadata": {},
   "source": [
    "# Visualize the mode shapes"
   ]
  },
  {
   "cell_type": "code",
   "execution_count": null,
   "metadata": {},
   "outputs": [],
   "source": [
    "YouTubeVideo('diHuLKYfTXM', width=600)"
   ]
  },
  {
   "cell_type": "markdown",
   "metadata": {},
   "source": [
    "The eigenmodes (mode shapes) are contained in each column of $\\mathbf{S}$. The plot will have these specifications:\n",
    "\n",
    "- The title of each plot should be the frequency of the corresponding modeshape in Hz.\n",
    "- The y axis should be made up of the values [0, 3, 6, 9, 12] meters.\n",
    "- The x axis should plot the five values. The first should be zero and the remaining values should be the components of the mode shape in order of the component associated with the lowest floor to the highest.\n",
    "- Plot lines with small circles at each data point."
   ]
  },
  {
   "cell_type": "code",
   "execution_count": null,
   "metadata": {},
   "outputs": [],
   "source": [
    "fig, axes = plt.subplots(1, 4, sharey=True)\n",
    "\n",
    "for i in range(4):\n",
    "    axes[i].grid()\n",
    "    axes[i].plot(np.hstack((0, S[:, i])),  # add a zero so the line connects to the ground\n",
    "                 [0, 3, 6, 9, 12],  # arbitrary floor heights\n",
    "                 marker='o')\n",
    "    axes[i].set_title('{:1.2f} Hz'.format(fs[i]))\n",
    "    axes[i].set_xlim((-0.015, 0.015))\n",
    "    \n",
    "plt.tight_layout()"
   ]
  },
  {
   "cell_type": "markdown",
   "metadata": {},
   "source": [
    "The modes can be simulated by setting the initial coordinates equal to the corresponding vector $\\bar{u}_i$. For example, here is 3rd mode shape:"
   ]
  },
  {
   "cell_type": "code",
   "execution_count": null,
   "metadata": {},
   "outputs": [],
   "source": [
    "sys.coordinates['x1'] = S[0, 2]\n",
    "sys.coordinates['x2'] = S[1, 2]\n",
    "sys.coordinates['x3'] = S[2, 2]\n",
    "sys.coordinates['x4'] = S[3, 2]"
   ]
  },
  {
   "cell_type": "code",
   "execution_count": null,
   "metadata": {},
   "outputs": [],
   "source": [
    "traj = sys.free_response(10, sample_rate=10)"
   ]
  },
  {
   "cell_type": "code",
   "execution_count": null,
   "metadata": {},
   "outputs": [],
   "source": [
    "traj[sys.coordinates.keys()].plot(subplots=True, sharey=True)  # note the sharey"
   ]
  },
  {
   "cell_type": "code",
   "execution_count": null,
   "metadata": {},
   "outputs": [],
   "source": [
    "sys.animate_configuration(fps=10, repeat=False)"
   ]
  },
  {
   "cell_type": "markdown",
   "metadata": {},
   "source": [
    "Explore the different mode shape animations with the widget:"
   ]
  },
  {
   "cell_type": "code",
   "execution_count": null,
   "metadata": {},
   "outputs": [],
   "source": [
    "def animate_building(mode_num=0):\n",
    "    sys.coordinates['x1'] = S[0, mode_num]\n",
    "    sys.coordinates['x2'] = S[1, mode_num]\n",
    "    sys.coordinates['x3'] = S[2, mode_num]\n",
    "    sys.coordinates['x4'] = S[3, mode_num]\n",
    "    traj = sys.free_response(10, sample_rate=30)\n",
    "    ani = sys.animate_configuration(fps=10, repeat=False)\n",
    "    return ani"
   ]
  },
  {
   "cell_type": "code",
   "execution_count": null,
   "metadata": {},
   "outputs": [],
   "source": [
    "from ipywidgets import interact\n",
    "\n",
    "interact(animate_building, mode_num=[0, 1, 2, 3])"
   ]
  },
  {
   "cell_type": "markdown",
   "metadata": {},
   "source": [
    "# Simulating the trajectory via the ODE solution\n",
    "\n",
    "The trajectory of building's coordinates can be found with the general solution to the ODEs:\n",
    "\n",
    "$$\n",
    "\\bar{c}(t) = \\sum_{i=1}^n d_i \\sin(\\omega_i t + \\phi_i) \\bar{u}_i\n",
    "$$\n",
    "\n",
    "where\n",
    "\n",
    "$$\n",
    "\\phi_i = \\arctan \\frac{\\omega_i \\hat{q}_{0i}^T \\bar{q}(0)}{\\hat{q}_{0i}^T \\dot{\\bar{q}}(0)}\n",
    "$$\n",
    "\n",
    "and\n",
    "\n",
    "$$\n",
    "d_i = \\frac{\\hat{q}_{0i}^T \\bar{q}(0)}{\\sin\\phi_i}\n",
    "$$\n",
    "\n",
    "$d_i$ are the modal participation factors and reflect what proportion of each mode is excited given specific initial conditions. If the initial conditions are the eigenmode, $\\bar{u}_i$, the all but the $i$th $d_i$ will be zero."
   ]
  },
  {
   "cell_type": "markdown",
   "metadata": {},
   "source": [
    "# Exercise\n",
    "\n",
    "Show that if $\\bar{q}(0) = \\bar{u}_i$ then $d_i = 1$ all other modal participation factors are 0. Also, report all of the phase angles, $\\phi_i$, in degrees. The following function should calcualtes all the $\\phi$'s and $d$'s given arbitrary initial conditions.\n",
    "\n",
    "```python\n",
    "def calc_phis_ds(c0, s0, ws, L, P):\n",
    "    \"\"\"\n",
    "    Parameters\n",
    "    ==========\n",
    "    c0 : ndarray, shape(n,)\n",
    "        Initial coordinates: x1, x2, x3, x4.\n",
    "    s0 : ndarray, shape(n,)\n",
    "        Initial speeds: v1, v2, v3, v4.\n",
    "    ws : ndarray, shape(n,)\n",
    "        The eigenfrequencies in radians per second.\n",
    "    P : ndarray, shape(n, n)\n",
    "        The matrix of orthnormal eigenvectors. Columns correspond to the order of ``ws`.\n",
    "    L : ndarray, shape(n, n)\n",
    "        The Cholesky decomposition matrix of the mass matrix M.\n",
    "    \n",
    "    Returns\n",
    "    =======\n",
    "    phis : ndarray, shape(n,)\n",
    "        The phase shift angles in radians corresponding to each mode.\n",
    "    ds : ndarray, shape(n,)\n",
    "        The participation factors corresponding to each mode.\n",
    "    \n",
    "    \"\"\"\n",
    "    \n",
    "    q0 = L.T @ c0\n",
    "    qd0 = L.T @ s0\n",
    "\n",
    "    phis = # fill out this line\n",
    "\n",
    "    ds = # fill out this line\n",
    "\n",
    "    return phis, ds\n",
    "```"
   ]
  },
  {
   "cell_type": "code",
   "execution_count": null,
   "metadata": {
    "jupyter": {
     "source_hidden": true
    }
   },
   "outputs": [],
   "source": [
    "def calc_phis_ds(c0, s0, ws, L, P):\n",
    "    \"\"\"\n",
    "    Parameters\n",
    "    ==========\n",
    "    c0 : ndarray, shape(n,)\n",
    "        Initial coordinates: x1, x2, x3, x4.\n",
    "    s0 : ndarray, shape(n,)\n",
    "        Initial speeds: v1, v2, v3, v4.\n",
    "    ws : ndarray, shape(n,)\n",
    "        The eigenfrequencies in radians per second.\n",
    "    P : ndarray, shape(n, n)\n",
    "        The matrix of orthnormal eigenvectors. Columns correspond to the order of ``ws`.\n",
    "    L : ndarray, shape(n, n)\n",
    "        The Cholesky decomposition matrix of the mass matrix M.\n",
    "    \n",
    "    Returns\n",
    "    =======\n",
    "    phis : ndarray, shape(n,)\n",
    "        The phase shift angles in radians corresponding to each mode.\n",
    "    ds : ndarray, shape(n,)\n",
    "        The participation factors corresponding to each mode.\n",
    "    \n",
    "    \"\"\"\n",
    "    \n",
    "    q0 = L.T @ c0\n",
    "    qd0 = L.T @ s0\n",
    "\n",
    "    phis = np.arctan2(ws * P.T @ q0, P.T @ qd0)\n",
    "\n",
    "    ds = P.T @ q0 / np.sin(phis)\n",
    "\n",
    "    return phis, ds"
   ]
  },
  {
   "cell_type": "code",
   "execution_count": null,
   "metadata": {
    "jupyter": {
     "source_hidden": true
    }
   },
   "outputs": [],
   "source": [
    "print(calc_phis_ds(np.random.random(4), np.zeros(4), ws, L, P))\n",
    "\n",
    "print(calc_phis_ds(S[:, 0], np.zeros(4), ws, L, P))\n",
    "\n",
    "print(calc_phis_ds(S[:, 1], np.zeros(4), ws, L, P))\n",
    "\n",
    "print(calc_phis_ds(S[:, 2], np.zeros(4), ws, L, P))\n",
    "\n",
    "print(calc_phis_ds(S[:, 3], np.zeros(4), ws, L, P))"
   ]
  },
  {
   "cell_type": "code",
   "execution_count": null,
   "metadata": {},
   "outputs": [],
   "source": [
    "# write answer here"
   ]
  },
  {
   "cell_type": "markdown",
   "metadata": {},
   "source": [
    "# Exercise\n",
    "\n",
    "How do the $\\phi$'s and $d$'s change if the initial coordinates are set to one of the $\\bar{u}$'s but the initial speeds are set to arbitrary values?"
   ]
  },
  {
   "cell_type": "code",
   "execution_count": null,
   "metadata": {
    "jupyter": {
     "source_hidden": true
    }
   },
   "outputs": [],
   "source": [
    "calc_phis_ds(S[:, 3], np.random.random(4), ws, L, P)"
   ]
  },
  {
   "cell_type": "code",
   "execution_count": null,
   "metadata": {},
   "outputs": [],
   "source": [
    "# write you answer here"
   ]
  },
  {
   "cell_type": "markdown",
   "metadata": {},
   "source": [
    "# Simulation\n",
    "\n",
    "The following function simulates the system given a time array and initial conditions."
   ]
  },
  {
   "cell_type": "code",
   "execution_count": null,
   "metadata": {},
   "outputs": [],
   "source": [
    "def simulate(t, c0, s0, ws, L, P, S):\n",
    "    \"\"\"\n",
    "    Parameters\n",
    "    ==========\n",
    "    t : ndarray, shape(m,)\n",
    "        Monotonically increasing values of time.\n",
    "    c0 : ndarray, shape(n,)\n",
    "        Initial coordinates: x1, x2, x3, x4.\n",
    "    s0 : ndarray, shape(n,)\n",
    "        Initial speeds: v1, v2, v3, v4.\n",
    "    ws : ndarray, shape(n,)\n",
    "        The eigenfrequencies in radians per second.\n",
    "    P : ndarray, shape(n, n)\n",
    "        The matrix of orthnormal eigenvectors. Columns correspond to the order of ``ws`.\n",
    "    L : ndarray, shape(n, n)\n",
    "        The Cholesky decomposition matrix of the mass matrix M.\n",
    "    S : ndarray, shape(n, n)\n",
    "        The matrix of eigenvectors projected back into the coordinate space, c.\n",
    "    \n",
    "    Returns\n",
    "    =======\n",
    "    c : ndarray, shape(n, m)\n",
    "        The coordinates as a function of time.\n",
    "    \n",
    "    \"\"\"\n",
    "    \n",
    "    phis, ds = calc_phis_ds(c0, s0, ws, L, P)\n",
    "    \n",
    "    c = np.zeros((len(c0), len(t)))\n",
    "    for di, wi, phii, ui in zip(ds, ws, phis, S.T):\n",
    "        c += di * np.sin(wi * t + phii) * np.tile(ui, (len(t), 1)).T\n",
    "    \n",
    "    return c"
   ]
  },
  {
   "cell_type": "markdown",
   "metadata": {},
   "source": [
    "Use the `free_response()` function to obtain trajectories with the initial conditions set to an arbitrary value."
   ]
  },
  {
   "cell_type": "code",
   "execution_count": null,
   "metadata": {},
   "outputs": [],
   "source": [
    "sys.coordinates['x1'] = 0.001\n",
    "sys.coordinates['x2'] = 0.010\n",
    "sys.coordinates['x3'] = 0.020\n",
    "sys.coordinates['x4'] = 0.025\n",
    "\n",
    "traj = sys.free_response(30, sample_rate=30)\n",
    "\n",
    "axes = traj[['x1', 'x2', 'x3', 'x4']].plot(subplots=True, linewidth=4.0)"
   ]
  },
  {
   "cell_type": "markdown",
   "metadata": {},
   "source": [
    "# Exercise\n",
    "\n",
    "Plot the trajectories of the coordinates from the `simulate()` function on top of the lines produced from `free_response()`. Make them black with a linestyle of `--`. You can use `axes[0].plot(...)` to plot on top of the existing lines."
   ]
  },
  {
   "cell_type": "code",
   "execution_count": null,
   "metadata": {
    "jupyter": {
     "source_hidden": true
    }
   },
   "outputs": [],
   "source": [
    "t = np.linspace(0, 30, num=30 * 30)\n",
    "c0 = np.array([0.001, 0.010, 0.020, 0.025])\n",
    "s0 = np.zeros(4)\n",
    "c = simulate(t, c0, s0, ws, L, P, S)\n",
    "\n",
    "axes[0].plot(t, c[0, :], color='black', linestyle='--')\n",
    "axes[1].plot(t, c[1, :], color='black', linestyle='--')\n",
    "axes[2].plot(t, c[2, :], color='black', linestyle='--')\n",
    "axes[3].plot(t, c[3, :], color='black', linestyle='--')"
   ]
  },
  {
   "cell_type": "code",
   "execution_count": null,
   "metadata": {},
   "outputs": [],
   "source": [
    "# write your answer here"
   ]
  }
 ],
 "metadata": {
  "anaconda-cloud": {},
  "kernelspec": {
   "display_name": "Python 3",
   "language": "python",
   "name": "python3"
  },
  "language_info": {
   "codemirror_mode": {
    "name": "ipython",
    "version": 3
   },
   "file_extension": ".py",
   "mimetype": "text/x-python",
   "name": "python",
   "nbconvert_exporter": "python",
   "pygments_lexer": "ipython3",
   "version": "3.6.7"
  }
 },
 "nbformat": 4,
 "nbformat_minor": 4
}
